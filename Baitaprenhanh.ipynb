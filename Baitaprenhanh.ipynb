{
  "nbformat": 4,
  "nbformat_minor": 0,
  "metadata": {
    "colab": {
      "provenance": [],
      "authorship_tag": "ABX9TyNZbSRRsHR1aUcTonJ2fxrX",
      "include_colab_link": true
    },
    "kernelspec": {
      "name": "python3",
      "display_name": "Python 3"
    },
    "language_info": {
      "name": "python"
    }
  },
  "cells": [
    {
      "cell_type": "markdown",
      "metadata": {
        "id": "view-in-github",
        "colab_type": "text"
      },
      "source": [
        "<a href=\"https://colab.research.google.com/github/PhwTha00/btvnpython/blob/main/Baitaprenhanh.ipynb\" target=\"_parent\"><img src=\"https://colab.research.google.com/assets/colab-badge.svg\" alt=\"Open In Colab\"/></a>"
      ]
    },
    {
      "cell_type": "code",
      "source": [
        "#bài 1:Viết hàm average nhận 5 tham số và trả về giá trị trung bình cộng của chúng\n",
        "def average():\n",
        "\n",
        "    a = int(input(\"a = \"))\n",
        "    b = int(input(\"b = \"))\n",
        "    c = int(input(\"c = \"))\n",
        "    d = int(input(\"d = \"))\n",
        "    e = int(input(\"e = \"))\n",
        "    sum = a + b + c + d + e;\n",
        "    average_value = sum / 5;\n",
        "    print(\"gia tri trung binh cong = \", average_value);\n",
        "\n",
        "average()"
      ],
      "metadata": {
        "colab": {
          "base_uri": "https://localhost:8080/"
        },
        "id": "7gaW64qMwRXF",
        "outputId": "278ab182-b018-4e27-820a-b78573c09ed3"
      },
      "execution_count": 1,
      "outputs": [
        {
          "output_type": "stream",
          "name": "stdout",
          "text": [
            "a = 4\n",
            "b = 5\n",
            "c = 6\n",
            "d = 7\n",
            "e = 8\n",
            "gia tri trung binh cong =  6.0\n"
          ]
        }
      ]
    },
    {
      "cell_type": "code",
      "source": [
        "#bài 2: Viết hàm area trả về diện tích tam giác khi biết độ dài 3 cạnh của chúng\n",
        "\n",
        "def area(a, b, c):\n",
        "    p = (a + b + c) / 2\n",
        "    area = (p * (p - a) * (p - b) * (p - c)) ** 0.5\n",
        "    return area\n",
        "\n",
        "canha = float(input(\"Nhập độ dài cạnh 1: \"))\n",
        "canhb = float(input(\"Nhập độ dài cạnh 2: \"))\n",
        "canhc = float(input(\"Nhập độ dài cạnh 3: \"))\n",
        "\n",
        "triangle_area = area(canha, canhb, canhc)\n",
        "print(f\"Diện tích của tam giác có 3 cạnh {canha}, {canhb}, {canhc} là: {triangle_area}\")\n"
      ],
      "metadata": {
        "colab": {
          "base_uri": "https://localhost:8080/"
        },
        "id": "OTfqICH-wzUq",
        "outputId": "5f65bbba-68a8-474a-a004-d32928d972a5"
      },
      "execution_count": 8,
      "outputs": [
        {
          "output_type": "stream",
          "name": "stdout",
          "text": [
            "Nhập độ dài cạnh 1: 4\n",
            "Nhập độ dài cạnh 2: 5\n",
            "Nhập độ dài cạnh 3: 6\n",
            "Diện tích của tam giác có 3 cạnh 4.0, 5.0, 6.0 là: 9.921567416492215\n"
          ]
        }
      ]
    },
    {
      "cell_type": "code",
      "source": [
        "#bài 3: Viết hàm area2 trả về diện tích tam giác biết tọa độ (x,y) của 3 đỉnh tam giác\n",
        "def area(x1, y1, x2, y2, x3, y3):\n",
        "    area = 0.5 * abs((x1*(y2-y3) + x2*(y3-y1) + x3*(y1-y2)))\n",
        "\n",
        "    return area\n",
        "\n",
        "x1, y1 = map(float, input(\"Nhập tọa độ của điểm 1 (x, y): \").split())\n",
        "x2, y2 = map(float, input(\"Nhập tọa độ của điểm 2 (x, y): \").split())\n",
        "x3, y3 = map(float, input(\"Nhập tọa độ của điểm 3 (x, y): \").split())\n",
        "\n",
        "triangle_area = area(x1, y1, x2, y2, x3, y3)\n",
        "print(f\"Diện tích của tam giác có tọa độ ({x1}, {y1}), ({x2}, {y2}), ({x3}, {y3}) là: {triangle_area}\")\n",
        "\n"
      ],
      "metadata": {
        "colab": {
          "base_uri": "https://localhost:8080/"
        },
        "id": "mEl9in34zKWk",
        "outputId": "ae18bdb0-d7be-4404-b66c-0bc73a228aa9"
      },
      "execution_count": 13,
      "outputs": [
        {
          "output_type": "stream",
          "name": "stdout",
          "text": [
            "Nhập tọa độ của điểm 1 (x, y): 4 5 \n",
            "Nhập tọa độ của điểm 2 (x, y): 6 7\n",
            "Nhập tọa độ của điểm 3 (x, y): 8 9\n",
            "Diện tích của tam giác có tọa độ (4.0, 5.0), (6.0, 7.0), (8.0, 9.0) là: 0.0\n"
          ]
        }
      ]
    },
    {
      "cell_type": "code",
      "source": [
        "#bài 4: Viết hàm total nhập số nguyên N làm tham số, hàm trả về tổng các chữ số của số N(chẳng hạn N=132 thì hàm total trả về 6)\n",
        "def total(N):\n",
        "    N_str = str(N)\n",
        "    # Tính tổng các chữ số\n",
        "    sum_of_digits = sum(int(digit) for digit in N_str)\n",
        "\n",
        "    return sum_of_digits\n",
        "\n",
        "N = int(input(\"Nhập số nguyên N: \"))\n",
        "\n",
        "result = total(N)\n",
        "print(f\"Tổng các chữ số của {N} là: {result}\")\n"
      ],
      "metadata": {
        "colab": {
          "base_uri": "https://localhost:8080/"
        },
        "id": "UiPSG79izJ61",
        "outputId": "3ef79048-24fe-4949-ad8b-d55e2047e3be"
      },
      "execution_count": 14,
      "outputs": [
        {
          "output_type": "stream",
          "name": "stdout",
          "text": [
            "Nhập số nguyên N: 132\n",
            "Tổng các chữ số của 132 là: 6\n"
          ]
        }
      ]
    },
    {
      "cell_type": "code",
      "source": [
        "#bài 5: Viết hàm isFibo nhận số nguyên N làm tham số, hàm kiểm tra xem N có phải số fibonacci hay không? Trả về True nếu đúng, ngược lại trả về False\n",
        "def isFibo(N):\n",
        "    # Kiểm tra N có là số Fibonacci hay không\n",
        "    a, b = 0, 1\n",
        "    while a < N:\n",
        "        a, b = b, a + b\n",
        "\n",
        "    return a == N\n",
        "\n",
        "N = int(input(\"Nhập số nguyên N: \"))\n",
        "\n",
        "result = isFibo(N)\n",
        "if result:\n",
        "    print(f\"{N} là số Fibonacci.\")\n",
        "else:\n",
        "    print(f\"{N} không phải là số Fibonacci.\")\n"
      ],
      "metadata": {
        "colab": {
          "base_uri": "https://localhost:8080/"
        },
        "id": "bxItwtIJ1TEB",
        "outputId": "e0de140d-d03a-472c-e566-31fb2bd260c8"
      },
      "execution_count": 17,
      "outputs": [
        {
          "output_type": "stream",
          "name": "stdout",
          "text": [
            "Nhập số nguyên N: 6\n",
            "6 không phải là số Fibonacci.\n"
          ]
        }
      ]
    },
    {
      "cell_type": "code",
      "source": [
        "#bài 6: Viết chương trình nhập số nguyên dương N và tính giá trị hàm F(N)=1!+2!+...+N!\n",
        "def factorial(n):\n",
        "    if n == 0 or n == 1:\n",
        "        return 1\n",
        "    else:\n",
        "        return n * factorial(n - 1)\n",
        "\n",
        "def calculate_F(N):\n",
        "    result = 0\n",
        "    for i in range(1, N + 1):\n",
        "        result += factorial(i)\n",
        "    return result\n",
        "\n",
        "N = int(input(\"Nhập số nguyên dương N: \"))\n",
        "\n",
        "# Tính giá trị của hàm F(N)\n",
        "result = calculate_F(N)\n",
        "print(f\"Giá trị của F({N}) = {result}\")\n"
      ],
      "metadata": {
        "colab": {
          "base_uri": "https://localhost:8080/"
        },
        "id": "zYhBVFCS2BsV",
        "outputId": "5b3377e1-ada3-4024-e0d7-36b9e1907c47"
      },
      "execution_count": 18,
      "outputs": [
        {
          "output_type": "stream",
          "name": "stdout",
          "text": [
            "Nhập số nguyên dương N: 20\n",
            "Giá trị của F(20) = 2561327494111820313\n"
          ]
        }
      ]
    },
    {
      "cell_type": "code",
      "source": [
        "# #bài 7: Viết chương trình nhập điểm trung bình học tập của một sinh viên, sau đó dựa trên quy tắc dưới đây in ra đánh giá kết quả học tập của sinh viên đó :\n",
        "# Điểm dưới 3.5: xếp loại yếu\n",
        "# Điểm từ 3.5 đến dưới 5: xếp loại kém\n",
        "# Điểm từ 5 đến dưới 6.5: xếp loại trung bình\n",
        "# Điểm từ 6.5 đến dưới 8: xếp loại khá\n",
        "# Điểm từ 8 đến dưới 9: xếp loại giỏi\n",
        "# Điểm từ 9 trở lên: xếp loại xuất sắc\n",
        "\n",
        "def danh_gia_hoc_tap(diem):\n",
        "    if diem < 3.5:\n",
        "        return \"Xếp loại: Yếu\"\n",
        "    elif 3.5 <= diem < 5:\n",
        "        return \"Xếp loại: Kém\"\n",
        "    elif 5 <= diem < 6.5:\n",
        "        return \"Xếp loại: Trung bình\"\n",
        "    elif 6.5 <= diem < 8:\n",
        "        return \"Xếp loại: Khá\"\n",
        "    elif 8 <= diem < 9:\n",
        "        return \"Xếp loại: Giỏi\"\n",
        "    else:\n",
        "        return \"Xếp loại: Xuất sắc\"\n",
        "\n",
        "diem_trung_binh = float(input(\"Nhập điểm trung bình học tập: \"))\n",
        "ket_qua = danh_gia_hoc_tap(diem_trung_binh)\n",
        "print(ket_qua)\n"
      ],
      "metadata": {
        "colab": {
          "base_uri": "https://localhost:8080/"
        },
        "id": "3D4FWe1_20BX",
        "outputId": "3f0453f6-d5cd-4710-8804-0a24b57377a5"
      },
      "execution_count": 19,
      "outputs": [
        {
          "output_type": "stream",
          "name": "stdout",
          "text": [
            "Nhập điểm trung bình học tập: 5\n",
            "Xếp loại: Trung bình\n"
          ]
        }
      ]
    },
    {
      "cell_type": "code",
      "source": [
        "# Bai8: Nhập vào từ bàn phím ba số a,b và c. Thực hiện các công việc dưới đây :\n",
        "# In ra màn hình giá trị lớn nhất trong 3 số\n",
        "# Nếu có ít nhất hai số cung nhận giá trị lớn nhất, in ra giá trị thứ 3 còn lại\n",
        "\n",
        "a = float(input(\"Nhập số a: \"))\n",
        "b = float(input(\"Nhập số b: \"))\n",
        "c = float(input(\"Nhập số c: \"))\n",
        "\n",
        "# Tìm giá trị lớn nhất\n",
        "max_value = max(a, b, c)\n",
        "print(f\"Giá trị lớn nhất trong 3 số là: {max_value}\")\n",
        "\n",
        "# Kiểm tra nếu có ít nhất hai số cùng nhận giá trị lớn nhất\n",
        "if (a == b == max_value) or (a == c == max_value) or (b == c == max_value):\n",
        "    # Tìm giá trị thứ 3 còn lại\n",
        "    min_value = min(a, b, c)\n",
        "    print(f\"Giá trị thứ 3 còn lại là: {min_value}\")\n"
      ],
      "metadata": {
        "colab": {
          "base_uri": "https://localhost:8080/"
        },
        "id": "IR7ZtuUf4R7F",
        "outputId": "d08a9b9f-f2ae-44e9-e3da-99f67e341a10"
      },
      "execution_count": 21,
      "outputs": [
        {
          "output_type": "stream",
          "name": "stdout",
          "text": [
            "Nhập số a: 5\n",
            "Nhập số b: 6\n",
            "Nhập số c: 7\n",
            "Giá trị lớn nhất trong 3 số là: 7.0\n"
          ]
        }
      ]
    },
    {
      "cell_type": "code",
      "source": [
        "# Bài 9: Nhập vào từ bàn phím thông tin về ngày X, bằng cách nhập 3 số nguyên dương d, m và y lần lượt là giá trị ngày (d) tháng (m) năm (y) của X. Tính và in ra ngày tiếp sau của X\n",
        "def is_leap_year(year):\n",
        "    # Kiểm tra xem năm có phải là năm nhuận không\n",
        "    return (year % 4 == 0 and year % 100 != 0) or (year % 400 == 0)\n",
        "\n",
        "def next_day(d, m, y):\n",
        "    days_in_month = [0, 31, 28, 31, 30, 31, 30, 31, 31, 30, 31, 30, 31]\n",
        "\n",
        "    # Kiểm tra năm nhuận\n",
        "    if is_leap_year(y):\n",
        "        days_in_month[2] = 29\n",
        "\n",
        "    # Xác định ngày tiếp theo\n",
        "    if d < days_in_month[m]:\n",
        "        d += 1\n",
        "    elif m < 12:\n",
        "        d = 1\n",
        "        m += 1\n",
        "    else:\n",
        "        d = 1\n",
        "        m = 1\n",
        "        y += 1\n",
        "\n",
        "    return d, m, y\n",
        "\n",
        "d = int(input(\"Nhập giá trị ngày: \"))\n",
        "m = int(input(\"Nhập giá trị tháng: \"))\n",
        "y = int(input(\"Nhập giá trị năm: \"))\n",
        "\n",
        "# Tính ngày tiếp theo\n",
        "next_date = next_day(d, m, y)\n",
        "\n",
        "print(f\"Ngày tiếp theo là: {next_date[0]}/{next_date[1]}/{next_date[2]}\")\n"
      ],
      "metadata": {
        "colab": {
          "base_uri": "https://localhost:8080/"
        },
        "id": "pR8t_htn5IZC",
        "outputId": "b42e0941-11ca-4162-f2b6-2fa597c6f493"
      },
      "execution_count": 23,
      "outputs": [
        {
          "output_type": "stream",
          "name": "stdout",
          "text": [
            "Nhập giá trị ngày: 5\n",
            "Nhập giá trị tháng: 6\n",
            "Nhập giá trị năm: 2024\n",
            "Ngày tiếp theo là: 6/6/2024\n"
          ]
        }
      ]
    }
  ]
}