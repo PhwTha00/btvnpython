{
  "nbformat": 4,
  "nbformat_minor": 0,
  "metadata": {
    "colab": {
      "provenance": [],
      "authorship_tag": "ABX9TyNNfUymPQ1IOWhJOw9Gb/ic",
      "include_colab_link": true
    },
    "kernelspec": {
      "name": "python3",
      "display_name": "Python 3"
    },
    "language_info": {
      "name": "python"
    }
  },
  "cells": [
    {
      "cell_type": "markdown",
      "metadata": {
        "id": "view-in-github",
        "colab_type": "text"
      },
      "source": [
        "<a href=\"https://colab.research.google.com/github/PhwTha00/btvnpython/blob/main/baitapxulichuoi.ipynb\" target=\"_parent\"><img src=\"https://colab.research.google.com/assets/colab-badge.svg\" alt=\"Open In Colab\"/></a>"
      ]
    },
    {
      "cell_type": "code",
      "execution_count": 2,
      "metadata": {
        "colab": {
          "base_uri": "https://localhost:8080/"
        },
        "id": "SdL3V9Yj04Sw",
        "outputId": "a3bcc760-714e-4f17-af5c-14aea1c52551"
      },
      "outputs": [
        {
          "output_type": "stream",
          "name": "stdout",
          "text": [
            "Nhập một chuỗi: nha em co hai con meo\n",
            "Chuỗi mới sau khi thêm dấu chấm than: nha em co hai con meo!!!\n"
          ]
        }
      ],
      "source": [
        "#Bai1: Nhập một chuỗi từ bàn phím, kiểm tra xem nó có tận cùng bởi 3 dấu chấm than hay không(!!!), nếu không hãy thêm dấu chấm than vào cuối để dãy có tận cùng là 3 dấu chấm than\n",
        "def kiem_tra_dau_cham_than(chuoi):\n",
        "    return chuoi.endswith(\"!!!\")\n",
        "\n",
        "chuoi_nhap = input(\"Nhập một chuỗi: \")\n",
        "\n",
        "if kiem_tra_dau_cham_than(chuoi_nhap):\n",
        "    print(\"Chuỗi đã kết thúc bởi 3 dấu chấm than.\")\n",
        "else:\n",
        "    chuoi_moi = chuoi_nhap + \"!!!\"  # Thêm dấu chấm than vào cuối chuỗi\n",
        "    print(\"Chuỗi mới sau khi thêm dấu chấm than:\", chuoi_moi)\n",
        "\n",
        "\n"
      ]
    },
    {
      "cell_type": "code",
      "source": [
        "#Bai2: Nhập dãy số từ bàn phím(các số được gõ trên cùng một dòng, cách nhau bởi dấu cách hoặc tab), in ra dãy số vừa nhập\n",
        "\n",
        "day_so = input(\"Nhập dãy số (cách nhau bởi dấu cách hoặc tab): \")\n",
        "\n",
        "# Tách các số từ chuỗi và chuyển thành danh sách số nguyên\n",
        "ds_so = [int(so) for so in day_so.split()]\n",
        "print(\"Dãy số vừa nhập:\", ds_so)\n"
      ],
      "metadata": {
        "colab": {
          "base_uri": "https://localhost:8080/"
        },
        "id": "W-2Pt_LX5UgN",
        "outputId": "d2871555-f643-4a00-91ff-eab886d44d0e"
      },
      "execution_count": 5,
      "outputs": [
        {
          "output_type": "stream",
          "name": "stdout",
          "text": [
            "Nhập dãy số (cách nhau bởi dấu cách hoặc tab): 5 7 3 5 4 1 3 2 \n",
            "Dãy số vừa nhập: [5, 7, 3, 5, 4, 1, 3, 2]\n"
          ]
        }
      ]
    },
    {
      "cell_type": "code",
      "source": [
        "#Bai3: Nhập một tên người từ bàn phím, hãy tách phần họ và tên riêng của người đó và in chúng ra màn hình(giả thiết họ và tên riêng chỉ gồm một âm)\n",
        "\n",
        "ten_nguoi = input(\"Nhập tên người: \")\n",
        "\n",
        "# Tách phần họ và tên riêng\n",
        "ho, ten_rieng = ten_nguoi.split()\n",
        "print(\"Họ:\", ho)\n",
        "print(\"Tên riêng:\", ten_rieng)\n"
      ],
      "metadata": {
        "colab": {
          "base_uri": "https://localhost:8080/"
        },
        "id": "lHgtB3Tz5zf5",
        "outputId": "6e31052b-a422-485c-d893-19367b617227"
      },
      "execution_count": 7,
      "outputs": [
        {
          "output_type": "stream",
          "name": "stdout",
          "text": [
            "Nhập tên người: nguyen thao\n",
            "Họ: nguyen\n",
            "Tên riêng: thao\n"
          ]
        }
      ]
    },
    {
      "cell_type": "code",
      "source": [
        "#Bai4: Nhập một chuỗi từ bàn phím, hãy loại bỏ tất cả các chữ số khỏi chuỗi và in lại nội dung chuỗi mới ra màn hình\n",
        "\n",
        "chuoi = input(\"Nhập chuỗi: \")\n",
        "\n",
        "# Loại bỏ tất cả các chữ số khỏi chuỗi\n",
        "chuoi_moi = ''.join(ky_tu for ky_tu in chuoi if not ky_tu.isdigit())\n",
        "print(\"Chuỗi mới sau khi loại bỏ chữ số:\", chuoi_moi)\n"
      ],
      "metadata": {
        "colab": {
          "base_uri": "https://localhost:8080/"
        },
        "id": "g9n5tnoS9W-i",
        "outputId": "41ce547f-3a2d-4483-be70-9ec11465d09b"
      },
      "execution_count": 11,
      "outputs": [
        {
          "output_type": "stream",
          "name": "stdout",
          "text": [
            "Nhập chuỗi: em năm nay 20 tuổi\n",
            "Chuỗi mới sau khi loại bỏ chữ số: em năm nay  tuổi\n"
          ]
        }
      ]
    },
    {
      "cell_type": "code",
      "source": [
        "#Bai5: Nhập một dãy các từ từ bàn phím, hãy in ra từ dài nhất trong dãy vừa nhập, in ra mọi từ có cùng độ dài nhất.\n",
        "\n",
        "day_tu = input(\"Nhập dãy từ (các từ cách nhau bởi dấu cách): \")\n",
        "\n",
        "# Tách các từ từ chuỗi và chuyển thành danh sách\n",
        "danh_sach_tu = day_tu.split()\n",
        "\n",
        "do_dai_lon_nhat = max(len(tu) for tu in danh_sach_tu)\n",
        "tu_dai_nhat = [tu for tu in danh_sach_tu if len(tu) == do_dai_lon_nhat]\n",
        "print(\"Từ dài nhất:\", tu_dai_nhat)\n"
      ],
      "metadata": {
        "colab": {
          "base_uri": "https://localhost:8080/"
        },
        "id": "LZapB4tP5zYN",
        "outputId": "90ca9573-9d24-4efc-b3e2-cf53188cde57"
      },
      "execution_count": 10,
      "outputs": [
        {
          "output_type": "stream",
          "name": "stdout",
          "text": [
            "Nhập dãy từ (các từ cách nhau bởi dấu cách): mẹ em là người phụ nữ tuyệt vời nhất đối với em\n",
            "Từ dài nhất: ['người', 'tuyệt']\n"
          ]
        }
      ]
    },
    {
      "cell_type": "code",
      "source": [
        "#Bai6: Nhập một dãy các từ từ bàn phím, thống kê xem có những chữ cái nào xuất hiện trong dãy và mỗi chữ xuất hiện bao nhiêu lần\n",
        "\n",
        "day_tu = input(\"Nhập dãy từ (các từ cách nhau bởi dấu cách): \")\n",
        "thong_ke_chu_cai = {}\n",
        "\n",
        "# Thống kê số lần xuất hiện của mỗi chữ cái\n",
        "for tu in day_tu.split():\n",
        "    for ky_tu in tu:\n",
        "        if ky_tu.isalpha():  # Kiểm tra ký tự có phải là chữ cái không\n",
        "            ky_tu = ky_tu.lower()  # Chuyển về chữ thường để không phân biệt chữ hoa, chữ thường\n",
        "            thong_ke_chu_cai[ky_tu] = thong_ke_chu_cai.get(ky_tu, 0) + 1\n",
        "\n",
        "print(\"Thống kê số lần xuất hiện của mỗi chữ cái:\")\n",
        "for chu_cai, so_lan_xuat_hien in thong_ke_chu_cai.items():\n",
        "    print(f\"{chu_cai}: {so_lan_xuat_hien} lần\")\n"
      ],
      "metadata": {
        "colab": {
          "base_uri": "https://localhost:8080/"
        },
        "id": "tiuMZMNp5zSb",
        "outputId": "9e71f69d-76dc-4353-8e9c-ce1034a69a92"
      },
      "execution_count": 12,
      "outputs": [
        {
          "output_type": "stream",
          "name": "stdout",
          "text": [
            "Nhập dãy từ (các từ cách nhau bởi dấu cách): 5cainon,/.hue\n",
            "Thống kê số lần xuất hiện của mỗi chữ cái:\n",
            "c: 1 lần\n",
            "a: 1 lần\n",
            "i: 1 lần\n",
            "n: 2 lần\n",
            "o: 1 lần\n",
            "h: 1 lần\n",
            "u: 1 lần\n",
            "e: 1 lần\n"
          ]
        }
      ]
    },
    {
      "cell_type": "code",
      "source": [
        "#Bai7: Nhập chuỗi S gồm toàn chữ số và số nguyên N, chỉ ra cách xóa đúng N kí tự khỏi S để được số có giá trị lớn nhất\n",
        "\n",
        "def xoa_ky_tu_de_gia_tri_lon_nhat(S, N):\n",
        "    chuoi_so = list(S)\n",
        "\n",
        "    i = 0\n",
        "    while N > 0 and i < len(chuoi_so) - 1:\n",
        "        if chuoi_so[i] < chuoi_so[i + 1]:\n",
        "            chuoi_so.pop(i)\n",
        "            N -= 1\n",
        "            i = max(0, i - 1)\n",
        "        else:\n",
        "            i += 1\n",
        "\n",
        "    while N > 0:\n",
        "        chuoi_so.pop()\n",
        "        N -= 1\n",
        "\n",
        "    return ''.join(chuoi_so)\n",
        "\n",
        "S = input(\"Nhập chuỗi S: \")\n",
        "N = int(input(\"Nhập số nguyên N: \"))\n",
        "ket_qua = xoa_ky_tu_de_gia_tri_lon_nhat(S, N)\n",
        "print(\"Kết quả sau khi xóa\", N, \"ký tự để được số lớn nhất:\", ket_qua)\n",
        "\n"
      ],
      "metadata": {
        "colab": {
          "base_uri": "https://localhost:8080/"
        },
        "id": "vTK5tuUT5zJx",
        "outputId": "cd88eea4-ea37-458d-dac0-a90be24bae66"
      },
      "execution_count": 14,
      "outputs": [
        {
          "output_type": "stream",
          "name": "stdout",
          "text": [
            "Nhập chuỗi S: 35742389\n",
            "Nhập số nguyên N: 3\n",
            "Kết quả sau khi xóa 3 ký tự để được số lớn nhất: 74389\n"
          ]
        }
      ]
    },
    {
      "cell_type": "code",
      "source": [
        "#Bai8: Nhập chuỗi S, hãy thay thế tất cả các chữ số trong S bằng kí tự hỏi chấm(?), sau đó in lại S ra màn hình.\n",
        "\n",
        "S = input(\"Nhập chuỗi S: \")\n",
        "\n",
        "# Thay thế tất cả chữ số bằng ký tự hỏi chấm\n",
        "S_moi = ''.join('?' if ky_tu.isdigit() else ky_tu for ky_tu in S)\n",
        "print(\"Chuỗi sau khi thay thế chữ số:\", S_moi)\n",
        "\n"
      ],
      "metadata": {
        "colab": {
          "base_uri": "https://localhost:8080/"
        },
        "id": "w-vPUwSd7DLV",
        "outputId": "04e0caa3-18db-4fb1-ba77-c1151b8c218d"
      },
      "execution_count": 15,
      "outputs": [
        {
          "output_type": "stream",
          "name": "stdout",
          "text": [
            "Nhập chuỗi S: conmeonokeu2tieng\n",
            "Chuỗi sau khi thay thế chữ số: conmeonokeu?tieng\n"
          ]
        }
      ]
    },
    {
      "cell_type": "code",
      "source": [
        "#Bai9: Nhập chuỗi S, kiểm tra xem chuỗi S có là dạng đối xứng hay không?\n",
        "\n",
        "# Hàm kiểm tra chuỗi có là đối xứng hay không\n",
        "def kiem_tra_doi_xung(chuoi):\n",
        "    return chuoi == chuoi[::-1]\n",
        "S = input(\"Nhập chuỗi S: \")\n",
        "\n",
        "if kiem_tra_doi_xung(S):\n",
        "    print(\"Chuỗi là đối xứng.\")\n",
        "else:\n",
        "    print(\"Chuỗi không là đối xứng.\")\n"
      ],
      "metadata": {
        "colab": {
          "base_uri": "https://localhost:8080/"
        },
        "id": "Ec1mlsaS7WUf",
        "outputId": "d4596b16-5c23-4d5e-ec18-f19240bcaddb"
      },
      "execution_count": 18,
      "outputs": [
        {
          "output_type": "stream",
          "name": "stdout",
          "text": [
            "Nhập chuỗi S: level\n",
            "Chuỗi là đối xứng.\n"
          ]
        }
      ]
    }
  ]
}