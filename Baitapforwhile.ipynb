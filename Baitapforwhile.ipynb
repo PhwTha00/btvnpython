{
  "cells": [
    {
      "cell_type": "markdown",
      "metadata": {
        "id": "view-in-github",
        "colab_type": "text"
      },
      "source": [
        "<a href=\"https://colab.research.google.com/github/PhwTha00/btvnpython/blob/main/Baitapforwhile.ipynb\" target=\"_parent\"><img src=\"https://colab.research.google.com/assets/colab-badge.svg\" alt=\"Open In Colab\"/></a>"
      ]
    },
    {
      "cell_type": "code",
      "execution_count": null,
      "metadata": {
        "colab": {
          "base_uri": "https://localhost:8080/"
        },
        "id": "tcw99tQd72wF",
        "outputId": "2f392513-4c8d-4d5f-f356-c1a933471c7f"
      },
      "outputs": [
        {
          "name": "stdout",
          "output_type": "stream",
          "text": [
            "Nhập số nguyên N: 4\n",
            "4 không phải là số nguyên tố.\n"
          ]
        }
      ],
      "source": [
        "#Bai1:Viết hàm is_prime kiểm tra xem N có phải số nguyên tố hay không?\n",
        "def is_prime(N):\n",
        "    if N < 2:\n",
        "        return False\n",
        "    for i in range(2, int(N**0.5) + 1):\n",
        "        if N % i == 0:\n",
        "            return False\n",
        "    return True\n",
        "\n",
        "N = int(input(\"Nhập số nguyên N: \"))\n",
        "\n",
        "if is_prime(N):\n",
        "    print(f\"{N} là số nguyên tố.\")\n",
        "else:\n",
        "    print(f\"{N} không phải là số nguyên tố.\")\n"
      ]
    },
    {
      "cell_type": "code",
      "execution_count": null,
      "metadata": {
        "colab": {
          "base_uri": "https://localhost:8080/"
        },
        "id": "UHPzC4Bz8mg3",
        "outputId": "f0e3d467-309c-4e93-f8bc-962a056021cf"
      },
      "outputs": [
        {
          "name": "stdout",
          "output_type": "stream",
          "text": [
            "Nhập số A: 3\n",
            "Nhập số B: 50\n",
            "Các số nguyên tố trong khoảng [3, 50]:\n",
            "3\n",
            "5\n",
            "7\n",
            "11\n",
            "13\n",
            "17\n",
            "19\n",
            "23\n",
            "29\n",
            "31\n",
            "37\n",
            "41\n",
            "43\n",
            "47\n"
          ]
        }
      ],
      "source": [
        "#Bai2:Viết chương trình nhập 2 số A và B, in ra tất cả các số nguyên tố nằm trong khoảng [A,B]\n",
        "def is_prime(num):\n",
        "    if num < 2:\n",
        "        return False\n",
        "    for i in range(2, int(num**0.5) + 1):\n",
        "        if num % i == 0:\n",
        "            return False\n",
        "    return True\n",
        "\n",
        "A = int(input(\"Nhập số A: \"))\n",
        "B = int(input(\"Nhập số B: \"))\n",
        "\n",
        "print(f\"Các số nguyên tố trong khoảng [{A}, {B}]:\")\n",
        "for num in range(A, B + 1):\n",
        "    if is_prime(num):\n",
        "        print(num)\n"
      ]
    },
    {
      "cell_type": "code",
      "execution_count": null,
      "metadata": {
        "colab": {
          "base_uri": "https://localhost:8080/"
        },
        "id": "HsYr2gKx9vpg",
        "outputId": "bd8bd30f-648b-4bec-9bfb-57840065d3e7"
      },
      "outputs": [
        {
          "name": "stdout",
          "output_type": "stream",
          "text": [
            "Nhập số nguyên dương A: 5\n",
            "Nhập số nguyên dương B: 20\n",
            "Ước số chung lớn nhất của 5 và 20 là: 5\n",
            "Bội số chung nhỏ nhất của 5 và 20 là: 20\n"
          ]
        }
      ],
      "source": [
        "#Bai3: Nhập 2 số nguyên dương A, B, tính và in ra màn hình ước số chung lớn nhât và bội số chung nhỏ nhất của 2 số đó.\n",
        "def USCLN(a, b):\n",
        "    while b:\n",
        "        a, b = b, a % b\n",
        "    return a\n",
        "\n",
        "def BSCNN(a, b):\n",
        "    return abs(a * b) // USCLN(a, b)\n",
        "\n",
        "A = int(input(\"Nhập số nguyên dương A: \"))\n",
        "B = int(input(\"Nhập số nguyên dương B: \"))\n",
        "\n",
        "UCLN = USCLN(A, B)\n",
        "BCNN = BSCNN(A, B)\n",
        "print(f\"Ước số chung lớn nhất của {A} và {B} là: {UCLN}\")\n",
        "print(f\"Bội số chung nhỏ nhất của {A} và {B} là: {BCNN}\")\n"
      ]
    },
    {
      "cell_type": "code",
      "execution_count": 2,
      "metadata": {
        "colab": {
          "base_uri": "https://localhost:8080/"
        },
        "id": "irZ-upUrE_rC",
        "outputId": "c90d8eaf-1a29-4f8d-d0a8-8684399e1848"
      },
      "outputs": [
        {
          "output_type": "stream",
          "name": "stdout",
          "text": [
            "Nhập một số tự nhiên (nhập số âm hoặc 0 để kết thúc): 4 \n",
            "Nhập một số tự nhiên (nhập số âm hoặc 0 để kết thúc): 6\n",
            "Nhập một số tự nhiên (nhập số âm hoặc 0 để kết thúc): 7\n",
            "Nhập một số tự nhiên (nhập số âm hoặc 0 để kết thúc): 8\n",
            "Nhập một số tự nhiên (nhập số âm hoặc 0 để kết thúc): 0\n",
            "Ước số chung lớn nhất của các số là: 1\n",
            "Bội số chung nhỏ nhất của các số là: 168\n"
          ]
        }
      ],
      "source": [
        "#bai4: Viết chương trình cho phép người dùng nhập vào liên kết một dãy số tự nhiên (không biết trước độ dài). Việc nhập dãy sẽ kết thúc khi người dùng nhập một số âm hoặc số 0.\n",
        "# Sau khi kết thúc, in ra màn hình ước số chung lớn nhất và bội số chung nhỏ nhất của tất cả các số vừa nhập vào\n",
        "\n",
        "def ucln(a, b):\n",
        "    while b:\n",
        "        a, b = b, a % b\n",
        "    return a\n",
        "\n",
        "def bcnn(a, b):\n",
        "    return a * b // ucln(a, b)\n",
        "\n",
        "def main():\n",
        "    # Nhập dãy số\n",
        "    numbers = []\n",
        "    while True:\n",
        "        try:\n",
        "            num = int(input(\"Nhập một số tự nhiên (nhập số âm hoặc 0 để kết thúc): \"))\n",
        "            if num <= 0:\n",
        "                break\n",
        "            numbers.append(num)\n",
        "        except ValueError:\n",
        "            print(\"Vui lòng nhập một số tự nhiên.\")\n",
        "\n",
        "    # Kiểm tra nếu có ít nhất 2 số để tính UCLN và BCNN\n",
        "    if len(numbers) < 2:\n",
        "        print(\"Cần ít nhất 2 số để tính UCLN và BCNN.\")\n",
        "        return\n",
        "\n",
        "    # Tính UCLN và BCNN\n",
        "    gcd_result = numbers[0]\n",
        "    lcm_result = numbers[0]\n",
        "    for num in numbers[1:]:\n",
        "        gcd_result = ucln(gcd_result, num)\n",
        "        lcm_result = bcnn(lcm_result, num)\n",
        "\n",
        "    # In kết quả\n",
        "    print(f\"Ước số chung lớn nhất của các số là: {gcd_result}\")\n",
        "    print(f\"Bội số chung nhỏ nhất của các số là: {lcm_result}\")\n",
        "\n",
        "if __name__ == \"__main__\":\n",
        "    main()\n",
        "\n",
        "\n"
      ]
    },
    {
      "cell_type": "code",
      "execution_count": 5,
      "metadata": {
        "id": "FylkheIlGMU-",
        "colab": {
          "base_uri": "https://localhost:8080/"
        },
        "outputId": "6d5475ce-82ef-4321-9043-afef0d0b8d3d"
      },
      "outputs": [
        {
          "output_type": "stream",
          "name": "stdout",
          "text": [
            "Nhập một số (nhập 0 để kết thúc): 4\n",
            "Nhập một số (nhập 0 để kết thúc): 6\n",
            "Nhập một số (nhập 0 để kết thúc): 6\n",
            "Nhập một số (nhập 0 để kết thúc): 4\n",
            "Nhập một số (nhập 0 để kết thúc): 2\n",
            "Nhập một số (nhập 0 để kết thúc): 4\n",
            "Nhập một số (nhập 0 để kết thúc): 3\n",
            "Nhập một số (nhập 0 để kết thúc): 6\n",
            "Nhập một số (nhập 0 để kết thúc): 7\n",
            "Nhập một số (nhập 0 để kết thúc): 8\n",
            "Nhập một số (nhập 0 để kết thúc): 54\n",
            "Nhập một số (nhập 0 để kết thúc): 0\n",
            "Số lượng số đã nhập: 11\n",
            "Giá trị nhỏ nhất: 2.0\n",
            "Giá trị lớn nhất: 54.0\n"
          ]
        }
      ],
      "source": [
        "# Bai5: Viết chương trình cho phép người dùng nhập vào liên tiếp một dãy số bất kì(không biết trước độ dài). Việc nhập dãy sẽ kết thúc khi người dùng nhập vào số 0.\n",
        "# Sau khi kết thúc, in ra màn hình số lượng số đã nhập, giá trị nhỏ nhất và giá trị lớn nhất của dãy số vừa nhập\n",
        "\n",
        "numbers = []  # Tạo một danh sách để lưu trữ dãy số\n",
        "while True:\n",
        "    try:\n",
        "        num = float(input(\"Nhập một số (nhập 0 để kết thúc): \"))\n",
        "        if num == 0:\n",
        "            break\n",
        "        numbers.append(num)\n",
        "    except ValueError:\n",
        "        print(\"Vui lòng chỉ nhập số.\")\n",
        "\n",
        "print(\"Số lượng số đã nhập:\", len(numbers))\n",
        "535\n",
        "26\n",
        "if numbers:\n",
        "    print(\"Giá trị nhỏ nhất:\", min(numbers))\n",
        "    print(\"Giá trị lớn nhất:\", max(numbers))\n",
        "else:\n",
        "    print(\"Dãy số rỗng.\")\n"
      ]
    }
  ],
  "metadata": {
    "colab": {
      "provenance": [],
      "authorship_tag": "ABX9TyNbYD6iOJCc+JNVm4LidOvs",
      "include_colab_link": true
    },
    "kernelspec": {
      "display_name": "Python 3",
      "name": "python3"
    },
    "language_info": {
      "name": "python"
    }
  },
  "nbformat": 4,
  "nbformat_minor": 0
}